{
  "nbformat": 4,
  "nbformat_minor": 0,
  "metadata": {
    "colab": {
      "provenance": [],
      "authorship_tag": "ABX9TyM48vEHADiBDGzlxysxIrwi",
      "include_colab_link": true
    },
    "kernelspec": {
      "name": "python3",
      "display_name": "Python 3"
    },
    "language_info": {
      "name": "python"
    }
  },
  "cells": [
    {
      "cell_type": "markdown",
      "metadata": {
        "id": "view-in-github",
        "colab_type": "text"
      },
      "source": [
        "<a href=\"https://colab.research.google.com/github/jasanchez19/ML-Gradient-Descent-Training-and-Validation/blob/main/Homework2JorgeSanchezECGR4105.ipynb\" target=\"_parent\"><img src=\"https://colab.research.google.com/assets/colab-badge.svg\" alt=\"Open In Colab\"/></a>"
      ]
    },
    {
      "cell_type": "markdown",
      "source": [
        "#Homework 2"
      ],
      "metadata": {
        "id": "gpFSQbCMfscA"
      }
    },
    {
      "cell_type": "code",
      "source": [
        "import numpy as np \n",
        "import pandas as pd \n",
        "import matplotlib.pyplot as plt \n",
        "from sklearn import preprocessing\n",
        "from sklearn.model_selection import train_test_split\n",
        "from sklearn.preprocessing import MinMaxScaler, StandardScaler\n",
        "from sklearn.model_selection import KFold\n",
        "from sklearn.model_selection import cross_val_score\n",
        "from sklearn.linear_model import LogisticRegression\n",
        "from sklearn import datasets\n",
        "from sklearn import metrics\n",
        "from sklearn.metrics import confusion_matrix\n",
        "from sklearn.metrics import classification_report\n",
        "from sklearn.datasets import load_breast_cancer\n",
        "import seaborn as sns"
      ],
      "metadata": {
        "id": "YcRaTEl_hGPF"
      },
      "execution_count": 83,
      "outputs": []
    },
    {
      "cell_type": "markdown",
      "source": [
        "Problem 1\n"
      ],
      "metadata": {
        "id": "Ijk_Mbqhf1J2"
      }
    },
    {
      "cell_type": "code",
      "source": [
        "url= \"https://raw.githubusercontent.com/jasanchez19/ML-Gradient-Descent-Training-and-Validation/main/diabetes.csv\"\n",
        "#configure the data sets\n",
        "df=pd.read_csv(url)\n",
        "df.head()"
      ],
      "metadata": {
        "colab": {
          "base_uri": "https://localhost:8080/",
          "height": 250
        },
        "id": "zXip1j5_iAjE",
        "outputId": "6009932b-1d8c-4793-a9dd-817dcb8d4f74"
      },
      "execution_count": 84,
      "outputs": [
        {
          "output_type": "execute_result",
          "data": {
            "text/plain": [
              "   Pregnancies  Glucose  BloodPressure  SkinThickness  Insulin   BMI  \\\n",
              "0            6      148             72             35        0  33.6   \n",
              "1            1       85             66             29        0  26.6   \n",
              "2            8      183             64              0        0  23.3   \n",
              "3            1       89             66             23       94  28.1   \n",
              "4            0      137             40             35      168  43.1   \n",
              "\n",
              "   DiabetesPedigreeFunction  Age  Outcome  \n",
              "0                     0.627   50        1  \n",
              "1                     0.351   31        0  \n",
              "2                     0.672   32        1  \n",
              "3                     0.167   21        0  \n",
              "4                     2.288   33        1  "
            ],
            "text/html": [
              "\n",
              "  <div id=\"df-c8d70ba6-8bd8-4437-90f1-3014943aeceb\">\n",
              "    <div class=\"colab-df-container\">\n",
              "      <div>\n",
              "<style scoped>\n",
              "    .dataframe tbody tr th:only-of-type {\n",
              "        vertical-align: middle;\n",
              "    }\n",
              "\n",
              "    .dataframe tbody tr th {\n",
              "        vertical-align: top;\n",
              "    }\n",
              "\n",
              "    .dataframe thead th {\n",
              "        text-align: right;\n",
              "    }\n",
              "</style>\n",
              "<table border=\"1\" class=\"dataframe\">\n",
              "  <thead>\n",
              "    <tr style=\"text-align: right;\">\n",
              "      <th></th>\n",
              "      <th>Pregnancies</th>\n",
              "      <th>Glucose</th>\n",
              "      <th>BloodPressure</th>\n",
              "      <th>SkinThickness</th>\n",
              "      <th>Insulin</th>\n",
              "      <th>BMI</th>\n",
              "      <th>DiabetesPedigreeFunction</th>\n",
              "      <th>Age</th>\n",
              "      <th>Outcome</th>\n",
              "    </tr>\n",
              "  </thead>\n",
              "  <tbody>\n",
              "    <tr>\n",
              "      <th>0</th>\n",
              "      <td>6</td>\n",
              "      <td>148</td>\n",
              "      <td>72</td>\n",
              "      <td>35</td>\n",
              "      <td>0</td>\n",
              "      <td>33.6</td>\n",
              "      <td>0.627</td>\n",
              "      <td>50</td>\n",
              "      <td>1</td>\n",
              "    </tr>\n",
              "    <tr>\n",
              "      <th>1</th>\n",
              "      <td>1</td>\n",
              "      <td>85</td>\n",
              "      <td>66</td>\n",
              "      <td>29</td>\n",
              "      <td>0</td>\n",
              "      <td>26.6</td>\n",
              "      <td>0.351</td>\n",
              "      <td>31</td>\n",
              "      <td>0</td>\n",
              "    </tr>\n",
              "    <tr>\n",
              "      <th>2</th>\n",
              "      <td>8</td>\n",
              "      <td>183</td>\n",
              "      <td>64</td>\n",
              "      <td>0</td>\n",
              "      <td>0</td>\n",
              "      <td>23.3</td>\n",
              "      <td>0.672</td>\n",
              "      <td>32</td>\n",
              "      <td>1</td>\n",
              "    </tr>\n",
              "    <tr>\n",
              "      <th>3</th>\n",
              "      <td>1</td>\n",
              "      <td>89</td>\n",
              "      <td>66</td>\n",
              "      <td>23</td>\n",
              "      <td>94</td>\n",
              "      <td>28.1</td>\n",
              "      <td>0.167</td>\n",
              "      <td>21</td>\n",
              "      <td>0</td>\n",
              "    </tr>\n",
              "    <tr>\n",
              "      <th>4</th>\n",
              "      <td>0</td>\n",
              "      <td>137</td>\n",
              "      <td>40</td>\n",
              "      <td>35</td>\n",
              "      <td>168</td>\n",
              "      <td>43.1</td>\n",
              "      <td>2.288</td>\n",
              "      <td>33</td>\n",
              "      <td>1</td>\n",
              "    </tr>\n",
              "  </tbody>\n",
              "</table>\n",
              "</div>\n",
              "      <button class=\"colab-df-convert\" onclick=\"convertToInteractive('df-c8d70ba6-8bd8-4437-90f1-3014943aeceb')\"\n",
              "              title=\"Convert this dataframe to an interactive table.\"\n",
              "              style=\"display:none;\">\n",
              "        \n",
              "  <svg xmlns=\"http://www.w3.org/2000/svg\" height=\"24px\"viewBox=\"0 0 24 24\"\n",
              "       width=\"24px\">\n",
              "    <path d=\"M0 0h24v24H0V0z\" fill=\"none\"/>\n",
              "    <path d=\"M18.56 5.44l.94 2.06.94-2.06 2.06-.94-2.06-.94-.94-2.06-.94 2.06-2.06.94zm-11 1L8.5 8.5l.94-2.06 2.06-.94-2.06-.94L8.5 2.5l-.94 2.06-2.06.94zm10 10l.94 2.06.94-2.06 2.06-.94-2.06-.94-.94-2.06-.94 2.06-2.06.94z\"/><path d=\"M17.41 7.96l-1.37-1.37c-.4-.4-.92-.59-1.43-.59-.52 0-1.04.2-1.43.59L10.3 9.45l-7.72 7.72c-.78.78-.78 2.05 0 2.83L4 21.41c.39.39.9.59 1.41.59.51 0 1.02-.2 1.41-.59l7.78-7.78 2.81-2.81c.8-.78.8-2.07 0-2.86zM5.41 20L4 18.59l7.72-7.72 1.47 1.35L5.41 20z\"/>\n",
              "  </svg>\n",
              "      </button>\n",
              "      \n",
              "  <style>\n",
              "    .colab-df-container {\n",
              "      display:flex;\n",
              "      flex-wrap:wrap;\n",
              "      gap: 12px;\n",
              "    }\n",
              "\n",
              "    .colab-df-convert {\n",
              "      background-color: #E8F0FE;\n",
              "      border: none;\n",
              "      border-radius: 50%;\n",
              "      cursor: pointer;\n",
              "      display: none;\n",
              "      fill: #1967D2;\n",
              "      height: 32px;\n",
              "      padding: 0 0 0 0;\n",
              "      width: 32px;\n",
              "    }\n",
              "\n",
              "    .colab-df-convert:hover {\n",
              "      background-color: #E2EBFA;\n",
              "      box-shadow: 0px 1px 2px rgba(60, 64, 67, 0.3), 0px 1px 3px 1px rgba(60, 64, 67, 0.15);\n",
              "      fill: #174EA6;\n",
              "    }\n",
              "\n",
              "    [theme=dark] .colab-df-convert {\n",
              "      background-color: #3B4455;\n",
              "      fill: #D2E3FC;\n",
              "    }\n",
              "\n",
              "    [theme=dark] .colab-df-convert:hover {\n",
              "      background-color: #434B5C;\n",
              "      box-shadow: 0px 1px 3px 1px rgba(0, 0, 0, 0.15);\n",
              "      filter: drop-shadow(0px 1px 2px rgba(0, 0, 0, 0.3));\n",
              "      fill: #FFFFFF;\n",
              "    }\n",
              "  </style>\n",
              "\n",
              "      <script>\n",
              "        const buttonEl =\n",
              "          document.querySelector('#df-c8d70ba6-8bd8-4437-90f1-3014943aeceb button.colab-df-convert');\n",
              "        buttonEl.style.display =\n",
              "          google.colab.kernel.accessAllowed ? 'block' : 'none';\n",
              "\n",
              "        async function convertToInteractive(key) {\n",
              "          const element = document.querySelector('#df-c8d70ba6-8bd8-4437-90f1-3014943aeceb');\n",
              "          const dataTable =\n",
              "            await google.colab.kernel.invokeFunction('convertToInteractive',\n",
              "                                                     [key], {});\n",
              "          if (!dataTable) return;\n",
              "\n",
              "          const docLinkHtml = 'Like what you see? Visit the ' +\n",
              "            '<a target=\"_blank\" href=https://colab.research.google.com/notebooks/data_table.ipynb>data table notebook</a>'\n",
              "            + ' to learn more about interactive tables.';\n",
              "          element.innerHTML = '';\n",
              "          dataTable['output_type'] = 'display_data';\n",
              "          await google.colab.output.renderOutput(dataTable, element);\n",
              "          const docLink = document.createElement('div');\n",
              "          docLink.innerHTML = docLinkHtml;\n",
              "          element.appendChild(docLink);\n",
              "        }\n",
              "      </script>\n",
              "    </div>\n",
              "  </div>\n",
              "  "
            ]
          },
          "metadata": {},
          "execution_count": 84
        }
      ]
    },
    {
      "cell_type": "code",
      "source": [
        "#set up varaibles\n",
        "X = df.iloc[:, [0,1,2,3,4,5,6,7]].values\n",
        "Y = df.iloc[:, 8].values\n",
        "#standardize data from x variable\n",
        "scaler = StandardScaler()\n",
        "X = scaler.fit_transform(X)\n",
        "#split the dataset\n",
        "xTrain, xTest, yTrain, yTest = train_test_split(X, Y, train_size = 0.8, test_size = 0.2)"
      ],
      "metadata": {
        "id": "YH4e1dj1jm_k"
      },
      "execution_count": 85,
      "outputs": []
    },
    {
      "cell_type": "code",
      "source": [
        "#do logistic regression from built in functions\n",
        "classifier = LogisticRegression(random_state = 0)\n",
        "classifier.fit(xTrain, yTrain)"
      ],
      "metadata": {
        "colab": {
          "base_uri": "https://localhost:8080/"
        },
        "id": "-_H3fU-OkwFZ",
        "outputId": "7d79139e-a519-42a5-e64a-fbaabc1bf0ee"
      },
      "execution_count": 86,
      "outputs": [
        {
          "output_type": "execute_result",
          "data": {
            "text/plain": [
              "LogisticRegression(random_state=0)"
            ]
          },
          "metadata": {},
          "execution_count": 86
        }
      ]
    },
    {
      "cell_type": "code",
      "source": [
        "#run the prediction function\n",
        "yPred = classifier.predict(xTest)\n",
        "\n",
        "#get the values from the confusion matrix\n",
        "cmatrix = confusion_matrix(yTest, yPred)\n",
        "\n",
        "#print accuracy, precision and recall results\n",
        "print(\"Accuracy =\",metrics.accuracy_score(yTest, yPred)) \n",
        "print(\"Precision =\",metrics.precision_score(yTest, yPred)) \n",
        "print(\"Recall = \",metrics.recall_score(yTest, yPred))"
      ],
      "metadata": {
        "colab": {
          "base_uri": "https://localhost:8080/"
        },
        "id": "3RJ4b5o4lT_O",
        "outputId": "f12eb288-2bcd-4606-de65-c6121cee5d8f"
      },
      "execution_count": 87,
      "outputs": [
        {
          "output_type": "stream",
          "name": "stdout",
          "text": [
            "Accuracy = 0.7597402597402597\n",
            "Precision = 0.5555555555555556\n",
            "Recall =  0.5952380952380952\n"
          ]
        }
      ]
    },
    {
      "cell_type": "code",
      "source": [
        "#plot confusion matrix that represents the binary classifier\n",
        "class_names=[0,1]\n",
        "fig, ax = plt.subplots() \n",
        "tick_marks = np.arange(len(class_names)) \n",
        "plt.xticks(tick_marks, class_names) \n",
        "plt.yticks(tick_marks, class_names) \n",
        "\n",
        "sns.heatmap(pd.DataFrame(cmatrix), annot=True, cmap=\"YlGnBu\" ,fmt='g') \n",
        "ax.xaxis.set_label_position(\"top\") \n",
        "plt.tight_layout() \n",
        "plt.title('Confusion Matrix', y=1) \n",
        "plt.ylabel('Actual') \n",
        "plt.xlabel('Predicted')"
      ],
      "metadata": {
        "colab": {
          "base_uri": "https://localhost:8080/",
          "height": 342
        },
        "id": "YDjoLQnylsiJ",
        "outputId": "d1cbf06b-12cc-40b2-bc7e-f35fcc7aca1b"
      },
      "execution_count": 88,
      "outputs": [
        {
          "output_type": "execute_result",
          "data": {
            "text/plain": [
              "Text(0.5, 257.44, 'Predicted')"
            ]
          },
          "metadata": {},
          "execution_count": 88
        },
        {
          "output_type": "display_data",
          "data": {
            "text/plain": [
              "<Figure size 432x288 with 2 Axes>"
            ],
            "image/png": "[encoded data removed]"
          },
          "metadata": {
            "needs_background": "light"
          }
        }
      ]
    },
    {
      "cell_type": "markdown",
      "source": [
        "Problem 2"
      ],
      "metadata": {
        "id": "MM_4FHIJl7yZ"
      }
    },
    {
      "cell_type": "code",
      "source": [
        "#set up varaibles\n",
        "X = df.iloc[:, [0,1,2,3,4,5,6,7]].values\n",
        "Y = df.iloc[:, 8].values\n",
        "#standardize data from x variable\n",
        "scaler = StandardScaler()\n",
        "X = scaler.fit_transform(X)\n",
        "#split the dataset\n",
        "xTrain, xTest, yTrain, yTest = train_test_split(X, Y, train_size = 0.8, test_size = 0.2)"
      ],
      "metadata": {
        "id": "PhXAYFfRl-Ly"
      },
      "execution_count": 89,
      "outputs": []
    },
    {
      "cell_type": "code",
      "source": [
        "#do 5 kfolds\n",
        "kfoldA = KFold(n_splits=5, random_state=0, shuffle=True)\n",
        "classifier = LogisticRegression(solver='liblinear')\n",
        "classifier.fit(xTrain, yTrain)\n",
        "results = cross_val_score(classifier, X, Y, cv=kfoldA)\n",
        "#print the mean and standard deviation across all folds to find accuracy\n",
        "print(\"Accuracy = %.3f%% (%.3f%%)\"  % (results.mean()*100.0, results.std()*100.0))"
      ],
      "metadata": {
        "colab": {
          "base_uri": "https://localhost:8080/"
        },
        "id": "2YzFf1sGoLO5",
        "outputId": "ef6844e2-1244-4af7-d6c5-f45c0c02ad89"
      },
      "execution_count": 90,
      "outputs": [
        {
          "output_type": "stream",
          "name": "stdout",
          "text": [
            "Accuracy = 77.600% (2.777%)\n"
          ]
        }
      ]
    },
    {
      "cell_type": "markdown",
      "source": [
        "Problem 3"
      ],
      "metadata": {
        "id": "1_O-45R1ou-d"
      }
    },
    {
      "cell_type": "code",
      "source": [
        "#load breast cancer dataset\n",
        "breast = load_breast_cancer() \n",
        "breast_data = breast.data \n",
        "breast_input = pd.DataFrame(breast_data)\n",
        "\n",
        "X = breast_data\n",
        "Y = breast.target"
      ],
      "metadata": {
        "id": "RkIlYg10owUN"
      },
      "execution_count": 91,
      "outputs": []
    },
    {
      "cell_type": "code",
      "source": [
        "#standardize data\n",
        "scaler = StandardScaler()\n",
        "X = scaler.fit_transform(X)\n",
        "\n",
        "#split data\n",
        "xTrain, xTest, yTrain, yTest = train_test_split(X, Y, train_size = 0.8, test_size = 0.2)\n",
        "\n",
        "#perform logistic regression with built in functions\n",
        "classifier = LogisticRegression(random_state = 0)\n",
        "classifier.fit(xTrain, yTrain)"
      ],
      "metadata": {
        "colab": {
          "base_uri": "https://localhost:8080/"
        },
        "id": "dSWi6lK6p_qr",
        "outputId": "b4c02577-2b40-48aa-dd24-caa233601881"
      },
      "execution_count": 92,
      "outputs": [
        {
          "output_type": "execute_result",
          "data": {
            "text/plain": [
              "LogisticRegression(random_state=0)"
            ]
          },
          "metadata": {},
          "execution_count": 92
        }
      ]
    },
    {
      "cell_type": "code",
      "source": [
        "#do prediction function\n",
        "yPred = classifier.predict(xTest)\n",
        "\n",
        "#get values from confusion matrix\n",
        "cmatrix = confusion_matrix(yTest, yPred)\n",
        "cmatrix"
      ],
      "metadata": {
        "colab": {
          "base_uri": "https://localhost:8080/"
        },
        "id": "_K4ZiLM9qMaV",
        "outputId": "7749d0a4-2879-4ff9-ee50-e7927ca1c880"
      },
      "execution_count": 93,
      "outputs": [
        {
          "output_type": "execute_result",
          "data": {
            "text/plain": [
              "array([[32,  3],\n",
              "       [ 0, 79]])"
            ]
          },
          "metadata": {},
          "execution_count": 93
        }
      ]
    },
    {
      "cell_type": "code",
      "source": [
        "#get results of training\n",
        "print(\"Accuracy =\",metrics.accuracy_score(yTest, yPred)) \n",
        "print(\"Precision =\",metrics.precision_score(yTest, yPred)) \n",
        "print(\"Recall = \",metrics.recall_score(yTest, yPred))"
      ],
      "metadata": {
        "colab": {
          "base_uri": "https://localhost:8080/"
        },
        "id": "D0iiwaleqXa5",
        "outputId": "b582d340-6af3-4beb-c70f-3464b8b116ec"
      },
      "execution_count": 94,
      "outputs": [
        {
          "output_type": "stream",
          "name": "stdout",
          "text": [
            "Accuracy = 0.9736842105263158\n",
            "Precision = 0.9634146341463414\n",
            "Recall =  1.0\n"
          ]
        }
      ]
    },
    {
      "cell_type": "code",
      "source": [
        "#plot confusion matrix\n",
        "class_names=[0,1]\n",
        "fig, ax = plt.subplots() \n",
        "tick_marks = np.arange(len(class_names)) \n",
        "plt.xticks(tick_marks, class_names) \n",
        "plt.yticks(tick_marks, class_names) \n",
        "\n",
        "sns.heatmap(pd.DataFrame(cmatrix), annot=True, cmap=\"YlGnBu\" ,fmt='g') \n",
        "ax.xaxis.set_label_position(\"top\") \n",
        "plt.tight_layout() \n",
        "plt.title('Confusion Matrix', y=1) \n",
        "plt.ylabel('Actual') \n",
        "plt.xlabel('Predicted')"
      ],
      "metadata": {
        "colab": {
          "base_uri": "https://localhost:8080/",
          "height": 342
        },
        "id": "4_zJtDp9qemq",
        "outputId": "636c8711-9ea9-4a66-a424-8b364f982725"
      },
      "execution_count": 95,
      "outputs": [
        {
          "output_type": "execute_result",
          "data": {
            "text/plain": [
              "Text(0.5, 257.44, 'Predicted')"
            ]
          },
          "metadata": {},
          "execution_count": 95
        },
        {
          "output_type": "display_data",
          "data": {
            "text/plain": [
              "<Figure size 432x288 with 2 Axes>"
            ],
            "image/png": "[encoded data removed]"
          },
          "metadata": {
            "needs_background": "light"
          }
        }
      ]
    },
    {
      "cell_type": "code",
      "source": [
        "#add weight penalty to data\n",
        "X = breast_data\n",
        "Y = breast.target\n",
        "\n",
        "#standardize data \n",
        "scaler = StandardScaler()\n",
        "X = scaler.fit_transform(X)\n",
        "\n",
        "#split data\n",
        "xTrain, xTest, yTrain, yTest = train_test_split(X, Y, train_size = 0.8, test_size = 0.2)"
      ],
      "metadata": {
        "id": "EAwuUk5kqqrY"
      },
      "execution_count": 96,
      "outputs": []
    },
    {
      "cell_type": "code",
      "source": [
        "#do logistic regression with weight penalty\n",
        "classifier = LogisticRegression(random_state = 0, penalty=\"l2\", solver=\"newton-cg\", class_weight='balanced')\n",
        "classifier.fit(xTrain, yTrain)\n",
        "\n",
        "#prediction function\n",
        "yPred = classifier.predict(xTest)\n",
        "\n",
        "#get confusion matrix\n",
        "cmatrix = confusion_matrix(yTest, yPred)\n",
        "cmatrix"
      ],
      "metadata": {
        "colab": {
          "base_uri": "https://localhost:8080/"
        },
        "id": "YuZcYSAEq2bf",
        "outputId": "eb513ddc-4d3e-4fa5-cdc4-9c486fc2c558"
      },
      "execution_count": 97,
      "outputs": [
        {
          "output_type": "execute_result",
          "data": {
            "text/plain": [
              "array([[39,  1],\n",
              "       [ 2, 72]])"
            ]
          },
          "metadata": {},
          "execution_count": 97
        }
      ]
    },
    {
      "cell_type": "code",
      "source": [
        "#get results\n",
        "print(\"Accuracy =\",metrics.accuracy_score(yTest, yPred)) \n",
        "print(\"Precision =\",metrics.precision_score(yTest, yPred)) \n",
        "print(\"Recall = \",metrics.recall_score(yTest, yPred))"
      ],
      "metadata": {
        "colab": {
          "base_uri": "https://localhost:8080/"
        },
        "id": "-VCuSaSyrCAF",
        "outputId": "57479bf5-9494-426e-af7f-f5f740c1ee84"
      },
      "execution_count": 98,
      "outputs": [
        {
          "output_type": "stream",
          "name": "stdout",
          "text": [
            "Accuracy = 0.9736842105263158\n",
            "Precision = 0.9863013698630136\n",
            "Recall =  0.972972972972973\n"
          ]
        }
      ]
    },
    {
      "cell_type": "markdown",
      "source": [
        "Problem 4"
      ],
      "metadata": {
        "id": "y9FGD0torJc-"
      }
    },
    {
      "cell_type": "code",
      "source": [
        "#get data\n",
        "X = breast_data\n",
        "Y = breast.target\n",
        "\n",
        "#standardize data \n",
        "scaler = StandardScaler()\n",
        "X = scaler.fit_transform(X)\n",
        "\n",
        "#split data\n",
        "xTrain, xTest, yTrain, yTest = train_test_split(X, Y, train_size = 0.8, test_size = 0.2)"
      ],
      "metadata": {
        "id": "umhVBcBPrLOz"
      },
      "execution_count": 99,
      "outputs": []
    },
    {
      "cell_type": "code",
      "source": [
        "#do 5 kfolds\n",
        "kfoldA = KFold(n_splits=5, random_state=0, shuffle=True)\n",
        "classifier = LogisticRegression(solver='liblinear')\n",
        "classifier.fit(xTrain, yTrain)\n",
        "results = cross_val_score(classifier, X, Y, cv=kfoldA)\n",
        "#print mean and standard deviation\n",
        "print(\"Accuracy = %.3f%% (%.3f%%)\"  % (results.mean()*100.0, results.std()*100.0))"
      ],
      "metadata": {
        "colab": {
          "base_uri": "https://localhost:8080/"
        },
        "id": "mtztAFdlrVCN",
        "outputId": "bf01436d-cc68-4073-c6f4-32767695c04a"
      },
      "execution_count": 100,
      "outputs": [
        {
          "output_type": "stream",
          "name": "stdout",
          "text": [
            "Accuracy = 97.193% (1.701%)\n"
          ]
        }
      ]
    },
    {
      "cell_type": "code",
      "source": [
        "#do 10 kfolds\n",
        "kfoldB = KFold(n_splits=10, random_state=0, shuffle=True)\n",
        "classifier = LogisticRegression(solver='liblinear')\n",
        "classifier.fit(xTrain, yTrain)\n",
        "results = cross_val_score(classifier, X, Y, cv=kfoldB)\n",
        "#print mean and standard deviation\n",
        "print(\"Accuracy = %.3f%% (%.3f%%)\"  % (results.mean()*100.0, results.std()*100.0))"
      ],
      "metadata": {
        "colab": {
          "base_uri": "https://localhost:8080/"
        },
        "id": "OnV946WUrbTS",
        "outputId": "5ad3d9a3-0b50-4979-fafd-10987ea19f49"
      },
      "execution_count": 101,
      "outputs": [
        {
          "output_type": "stream",
          "name": "stdout",
          "text": [
            "Accuracy = 97.895% (2.046%)\n"
          ]
        }
      ]
    },
    {
      "cell_type": "code",
      "source": [
        "#add weight penalty to data\n",
        "X = breast_data\n",
        "Y = breast.target\n",
        "\n",
        "#standardize data \n",
        "scaler = StandardScaler()\n",
        "X = scaler.fit_transform(X)\n",
        "\n",
        "#split data\n",
        "xTrain, xTest, yTrain, yTest = train_test_split(X, Y, train_size = 0.8, test_size = 0.2)"
      ],
      "metadata": {
        "id": "akIWU-8drpaO"
      },
      "execution_count": 102,
      "outputs": []
    },
    {
      "cell_type": "code",
      "source": [
        "#do 5 kfolds\n",
        "kfoldA = KFold(n_splits=5, random_state=0, shuffle=True)\n",
        "classifier = LogisticRegression(penalty=\"l2\", solver=\"newton-cg\", class_weight='balanced')\n",
        "classifier.fit(xTrain, yTrain)\n",
        "results = cross_val_score(classifier, X, Y, cv=kfoldA)\n",
        "#print mean and standard deviation\n",
        "print(\"Accuracy = %.3f%% (%.3f%%)\"  % (results.mean()*100.0, results.std()*100.0))"
      ],
      "metadata": {
        "colab": {
          "base_uri": "https://localhost:8080/"
        },
        "id": "cA7kGkSvrvau",
        "outputId": "9bcc507d-f660-4636-b136-e741290e2484"
      },
      "execution_count": 103,
      "outputs": [
        {
          "output_type": "stream",
          "name": "stdout",
          "text": [
            "Accuracy = 97.016% (1.423%)\n"
          ]
        }
      ]
    },
    {
      "cell_type": "code",
      "source": [
        "#do 10 kfolds\n",
        "kfoldB = KFold(n_splits=10, random_state=0, shuffle=True)\n",
        "classifier = LogisticRegression(penalty=\"l2\", solver=\"newton-cg\", class_weight='balanced')\n",
        "classifier.fit(xTrain, yTrain)\n",
        "results = cross_val_score(classifier, X, Y, cv=kfoldB)\n",
        "#print mean and standard deviation\n",
        "print(\"Accuracy = %.3f%% (%.3f%%)\"  % (results.mean()*100.0, results.std()*100.0))"
      ],
      "metadata": {
        "colab": {
          "base_uri": "https://localhost:8080/"
        },
        "id": "8tZohJ7Cr182",
        "outputId": "2544a748-5d2b-416b-a314-50d4ba60191d"
      },
      "execution_count": 104,
      "outputs": [
        {
          "output_type": "stream",
          "name": "stdout",
          "text": [
            "Accuracy = 97.190% (1.952%)\n"
          ]
        }
      ]
    }
  ]
}